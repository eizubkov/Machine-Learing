{
 "cells": [
  {
   "cell_type": "code",
   "execution_count": 57,
   "metadata": {},
   "outputs": [
    {
     "name": "stdout",
     "output_type": "stream",
     "text": [
      "[(0.7327387580875756, 6), (0.7770887149698589, 4)]\n"
     ]
    }
   ],
   "source": [
    "import re\n",
    "import numpy as np\n",
    "from scipy.spatial import distance\n",
    "with open('/home/eizubkov/Documents/coursera/machine_learning/course_1/sentences.txt') as sentences:\n",
    "    lines = [line.lower() for line in sentences.read().split('\\n')]\n",
    "    words = set()\n",
    "    matrix = []\n",
    "    for line in lines:\n",
    "         for w in filter(lambda x: len(x), re.split('[^a-z]', line)):\n",
    "            words.add(w)\n",
    "    words = list(words)\n",
    "    for line in lines[:-1]:\n",
    "        ws = {}\n",
    "        for w in filter(lambda x: len(x), re.split('[^a-z]', line)):\n",
    "            if w in ws:\n",
    "                ws[w] += 1\n",
    "            else:\n",
    "                ws[w] = 1\n",
    "        vector = [ws.get(w, 0) for w in words]\n",
    "        matrix.append(vector)\n",
    "    \n",
    "    distances = sorted([(distance.cosine(matrix[0], matrix[i]), i) for i in range(1, len(matrix))])\n",
    "    print(distances[:2])"
   ]
  },
  {
   "cell_type": "code",
   "execution_count": 67,
   "metadata": {},
   "outputs": [],
   "source": [
    "import  matplotlib.pyplot  as  plt"
   ]
  },
  {
   "cell_type": "code",
   "execution_count": 68,
   "metadata": {},
   "outputs": [],
   "source": [
    "% matplotlib inline"
   ]
  },
  {
   "cell_type": "code",
   "execution_count": 76,
   "metadata": {},
   "outputs": [
    {
     "data": {
      "text/plain": [
       "array([ 4.36264154, -1.29552587,  0.19333685, -0.00823565])"
      ]
     },
     "execution_count": 76,
     "metadata": {},
     "output_type": "execute_result"
    }
   ],
   "source": [
    "from math import sin, exp\n",
    "f = lambda x: sin(float(x) / 5) * exp(float(x) / 10) + 5 * exp(float(-x) / 2)\n",
    "x = [1, 4, 10, 15]\n",
    "A = []\n",
    "for x0 in x:\n",
    "    vector = [x0**k for k in range(4)]\n",
    "    A.append(vector)\n",
    "b = [f(1), f(4), f(10), f(15)]\n",
    "np.linalg.solve(A, b)"
   ]
  },
  {
   "cell_type": "code",
   "execution_count": null,
   "metadata": {},
   "outputs": [],
   "source": []
  }
 ],
 "metadata": {
  "kernelspec": {
   "display_name": "Python 2",
   "language": "python",
   "name": "python2"
  }
 },
 "nbformat": 4,
 "nbformat_minor": 2
}
